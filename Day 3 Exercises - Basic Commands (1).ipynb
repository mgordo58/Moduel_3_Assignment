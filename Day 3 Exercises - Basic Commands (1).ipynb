{
 "cells": [
  {
   "cell_type": "raw",
   "metadata": {},
   "source": [
    "# EX 1 please print out below\n",
    "# Your name, age , and what you want from this course\n",
    "# print out your major or your favorite subject as well"
   ]
  },
  {
   "cell_type": "code",
   "execution_count": 2,
   "metadata": {},
   "outputs": [
    {
     "name": "stdout",
     "output_type": "stream",
     "text": [
      "My name is: Michael Gordon\n",
      "I am 33 years old\n",
      "I want to learn coding for either a software development job or IT support\n",
      "My Major is Software development/Computer Technology. My favorite subject is history\n"
     ]
    }
   ],
   "source": [
    "print(\"My name is: Michael Gordon\")\n",
    "print(\"I am 33 years old\")\n",
    "print(\"I want to learn coding for either a software development job or IT support\")\n",
    "print(\"My Major is Software development/Computer Technology. My favorite subject is history\")"
   ]
  },
  {
   "cell_type": "raw",
   "metadata": {},
   "source": [
    "# EX 2 comment out the name of place you want to visit on the first line\n",
    "# proceed to print out why you want to visit that place below. Give me three sentences. \n",
    "# create in-line comments for one of those sentences"
   ]
  },
  {
   "cell_type": "code",
   "execution_count": 1,
   "metadata": {},
   "outputs": [
    {
     "name": "stdout",
     "output_type": "stream",
     "text": [
      "I want to vist Ireland because I like to see the many old medieval castle's in person.\n",
      "I also want to visit Dublin for its cobbled streets, Irish music, and the many pubs.\n",
      "Lastly my grandmother was born in Ireland so I want to visit her old homeland.\n"
     ]
    }
   ],
   "source": [
    "#Ireland\n",
    "print(\"I want to vist Ireland because I like to see the many old medieval castle's in person.\")\n",
    "print(\"I also want to visit Dublin for its cobbled streets, Irish music, and the many pubs.\") #I like some of their music as well\n",
    "print(\"Lastly my grandmother was born in Ireland so I want to visit her old homeland.\")\n"
   ]
  },
  {
   "cell_type": "raw",
   "metadata": {},
   "source": [
    "# EX 3 using one print statment, print out \"the answer to everything is 3\"\n",
    "# you must create the number three by adding two numbers together"
   ]
  },
  {
   "cell_type": "code",
   "execution_count": 7,
   "metadata": {},
   "outputs": [
    {
     "name": "stdout",
     "output_type": "stream",
     "text": [
      "the answer to everything is 3\n",
      "1+2= 3\n"
     ]
    }
   ],
   "source": [
    "print(\"the answer to everything is 3\")\n",
    "print (\"1+2=\",1+2)"
   ]
  },
  {
   "cell_type": "raw",
   "metadata": {},
   "source": [
    "# EX 4 \n",
    "# print out the result of 20/3 to the nearest one using string format\n",
    "# print out the solution of 30 * 4.5\n",
    "# tell me what type of numbers are we using? What is the actual word? Comment it out"
   ]
  },
  {
   "cell_type": "code",
   "execution_count": 77,
   "metadata": {},
   "outputs": [
    {
     "name": "stdout",
     "output_type": "stream",
     "text": [
      "7\n",
      "135.0\n"
     ]
    }
   ],
   "source": [
    "x = 20/3\n",
    "print(f'{x:.0f}')\n",
    "print(30*4.5)\n",
    "#we are using formatted string literals"
   ]
  },
  {
   "cell_type": "code",
   "execution_count": 82,
   "metadata": {},
   "outputs": [
    {
     "name": "stdout",
     "output_type": "stream",
     "text": [
      "Hello World\n",
      "Im only as smart as David because I'm reading.\n",
      "There are only 2 friends available to eat with you today\n",
      "Why don't we call Carly today?\n",
      "If they bring their partner then we need a table for CarlyCarly\n",
      "We need to arrive at la MC at what time?\n",
      "We have to be there at 5:30 pm or else O'Brien will say I told you so.\n"
     ]
    }
   ],
   "source": [
    "# EX 5 DEBUG THIS CODE TO MAKE IT WORK\n",
    "\n",
    "hello = \"Hello World\"\n",
    "noun = \"David\"\n",
    "number_of_friends = \"2\"\n",
    "name_of_friend = \"Carly\"\n",
    "location = \"la MC\"\n",
    "time = \"5:30 pm\"\n",
    "\n",
    "print(hello)\n",
    "print(\"Im only as smart as\", noun, \"because I'm reading.\")\n",
    "print(\"There are only\", number_of_friends, \"friends available to eat with you today\")\n",
    "print(\"Why don't we call\", name_of_friend, \"today?\")\n",
    "print(\"If they bring their partner then we need a table for\", name_of_friend)\n",
    "print(\"We need to arrive at\", location, \"at what time?\")\n",
    "print(\"We have to be there at\", time, \"or else O'Brien will say I told you so.\")"
   ]
  },
  {
   "cell_type": "raw",
   "metadata": {},
   "source": [
    "# EX 6 Take the fixed code and use the formatted strings instead of using so many commas to produce the same output."
   ]
  },
  {
   "cell_type": "code",
   "execution_count": 127,
   "metadata": {},
   "outputs": [
    {
     "name": "stdout",
     "output_type": "stream",
     "text": [
      "Hello World\n",
      "Im only as smart as David because I'm reading.\n",
      "There are only 2 friends available to eat with you today\n",
      "Why don't we call Carly today?\n",
      "If they bring their partner then we need a table for Carly\n",
      "We need to arrive at la MC at what time?\n",
      "We have to be there at 5:30 pm or else O'Brien will say I told you so.\n"
     ]
    }
   ],
   "source": [
    "hello = \"Hello World\"\n",
    "noun = \"David\"\n",
    "number_of_friends = \"2\"\n",
    "name_of_friend = \"Carly\"\n",
    "location = \"la MC\"\n",
    "time = \"5:30 pm\"\n",
    "\n",
    "print(hello)\n",
    "print(f\"Im only as smart as {noun} because I'm reading.\")\n",
    "print(f\"There are only {number_of_friends} friends available to eat with you today\")\n",
    "print(f\"Why don't we call {name_of_friend} today?\")\n",
    "print(f\"If they bring their partner then we need a table for {name_of_friend}\")\n",
    "print(f\"We need to arrive at {location} at what time?\")\n",
    "print(f\"We have to be there at {time} or else O'Brien will say I told you so.\")"
   ]
  },
  {
   "cell_type": "raw",
   "metadata": {},
   "source": [
    "# EX 7 Please concatenate 2 sentences together and print them on one line.\n",
    "# print out \"print all of these lines for me 7 times please\" 7 times with one print statement\n",
    "# print out a statement with a single quote inside the double qoute saying I 'love' single quotes\n",
    "# print out a statement with a double quote inside the double quote saying I \"love\" double quotes"
   ]
  },
  {
   "cell_type": "code",
   "execution_count": 146,
   "metadata": {},
   "outputs": [
    {
     "name": "stdout",
     "output_type": "stream",
     "text": [
      "print all of these lines for me 7 times please \n",
      "print all of these lines for me 7 times please \n",
      "print all of these lines for me 7 times please \n",
      "print all of these lines for me 7 times please \n",
      "print all of these lines for me 7 times please \n",
      "print all of these lines for me 7 times please \n",
      "print all of these lines for me 7 times please \n",
      "\n",
      "I 'love' single quotes\n",
      "I \"love\" double quotes\n"
     ]
    }
   ],
   "source": [
    "print(\"print all of these lines for me 7 times please \\n\"*7)\n",
    "print(\"I 'love' single quotes\")\n",
    "print(\"I \\\"love\\\" double quotes\")"
   ]
  },
  {
   "cell_type": "raw",
   "metadata": {},
   "source": [
    "# EX 8  Use one print function to print this statement on two lines: \"We are free. We are almost free.\n",
    "# print a block statement using one print function (give me 3 lines please)"
   ]
  },
  {
   "cell_type": "code",
   "execution_count": 148,
   "metadata": {},
   "outputs": [
    {
     "name": "stdout",
     "output_type": "stream",
     "text": [
      "We are free\n",
      "\n",
      "We are almost free.\n"
     ]
    }
   ],
   "source": [
    "print(\"We are free\\n\\nWe are almost free.\")"
   ]
  },
  {
   "cell_type": "code",
   "execution_count": 149,
   "metadata": {},
   "outputs": [
    {
     "name": "stdout",
     "output_type": "stream",
     "text": [
      "a p p l e   p i e\n"
     ]
    }
   ],
   "source": [
    "# EX 9 Use one print statement to print out \"apple pie\", using following variables\n",
    "ch1='a'\n",
    "ch2='e'\n",
    "ch3='i'\n",
    "ch4='o'\n",
    "ch5='u'\n",
    "ch6='l'\n",
    "ch7='p'\n",
    "\n",
    "print(ch1,ch7,ch7,ch6,ch2,\" \",ch7,ch3,ch2)"
   ]
  },
  {
   "cell_type": "code",
   "execution_count": null,
   "metadata": {},
   "outputs": [],
   "source": []
  }
 ],
 "metadata": {
  "kernelspec": {
   "display_name": "Python 3 (ipykernel)",
   "language": "python",
   "name": "python3"
  },
  "language_info": {
   "codemirror_mode": {
    "name": "ipython",
    "version": 3
   },
   "file_extension": ".py",
   "mimetype": "text/x-python",
   "name": "python",
   "nbconvert_exporter": "python",
   "pygments_lexer": "ipython3",
   "version": "3.11.4"
  }
 },
 "nbformat": 4,
 "nbformat_minor": 2
}
